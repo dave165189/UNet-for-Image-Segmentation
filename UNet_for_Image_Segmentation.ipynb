{
  "nbformat": 4,
  "nbformat_minor": 0,
  "metadata": {
    "accelerator": "GPU",
    "colab": {
      "provenance": [],
      "machine_shape": "hm"
    },
    "kernelspec": {
      "display_name": "Python 3",
      "name": "python3"
    }
  },
  "cells": [
    {
      "cell_type": "code",
      "metadata": {
        "id": "9JERZurx39W1"
      },
      "source": [
        "!pip install git+https://github.com/jakeret/unet.git"
      ],
      "execution_count": null,
      "outputs": []
    },
    {
      "cell_type": "code",
      "metadata": {
        "id": "7XqmbUtTojIt"
      },
      "source": [
        "%load_ext tensorboard\n",
        "import unet\n",
        "from unet.datasets import oxford_iiit_pet\n",
        "from tensorflow.keras import losses, metrics"
      ],
      "execution_count": null,
      "outputs": []
    },
    {
      "cell_type": "code",
      "source": [
        "from typing import Optional, Union, Callable, List\n",
        "\n",
        "import numpy as np\n",
        "import tensorflow as tf\n",
        "from tensorflow.keras import Model, Input\n",
        "from tensorflow.keras import layers\n",
        "from tensorflow.keras import losses\n",
        "from tensorflow.keras.initializers import TruncatedNormal\n",
        "from tensorflow.keras.optimizers import Adam\n",
        "\n",
        "import unet.metrics\n",
        "def finalize_model(model: Model,\n",
        "                   loss: Optional[Union[Callable, str]]=losses.categorical_crossentropy,\n",
        "                   optimizer: Optional= None,\n",
        "                   metrics:Optional[List[Union[Callable,str]]]=None,\n",
        "                   dice_coefficient: bool=True,\n",
        "                   auc: bool=True,\n",
        "                   mean_iou: bool=True,\n",
        "                   **opt_kwargs):\n",
        "    \"\"\"\n",
        "    Configures the model for training by setting, loss, optimzer, and tracked metrics\n",
        "    :param model: the model to compile\n",
        "    :param loss: the loss to be optimized. Defaults to `categorical_crossentropy`\n",
        "    :param optimizer: the optimizer to use. Defaults to `Adam`\n",
        "    :param metrics: List of metrics to track. Is extended by `crossentropy` and `accuracy`\n",
        "    :param dice_coefficient: Flag if the dice coefficient metric should be tracked\n",
        "    :param auc: Flag if the area under the curve metric should be tracked\n",
        "    :param mean_iou: Flag if the mean over intersection over union metric should be tracked\n",
        "    :param opt_kwargs: key word arguments passed to default optimizer (Adam), e.g. learning rate\n",
        "    \"\"\"\n",
        "\n",
        "    if optimizer is None:\n",
        "        optimizer = Adam(**opt_kwargs)\n",
        "\n",
        "    if metrics is None:\n",
        "        metrics = ['categorical_crossentropy',\n",
        "                   'categorical_accuracy',\n",
        "                   ]\n",
        "\n",
        "    if mean_iou:\n",
        "        metrics += [unet.metrics.mean_iou]\n",
        "\n",
        "    if dice_coefficient:\n",
        "        metrics += [unet.metrics.dice_coefficient]\n",
        "\n",
        "    if auc:\n",
        "        metrics += [tf.keras.metrics.AUC()]\n",
        "\n",
        "    model.compile(loss=loss,\n",
        "                  optimizer=optimizer,\n",
        "                  metrics=metrics,\n",
        "                  jit_compile=True\n",
        "                  )"
      ],
      "metadata": {
        "id": "L0ViQcyecqnL"
      },
      "execution_count": null,
      "outputs": []
    },
    {
      "cell_type": "code",
      "metadata": {
        "id": "54x7pW93ot71"
      },
      "source": [
        "LEARNING_RATE = 1e-3\n",
        "unet_model = unet.build_model(*oxford_iiit_pet.IMAGE_SIZE,\n",
        "                              channels=oxford_iiit_pet.channels,\n",
        "                              num_classes=oxford_iiit_pet.classes,\n",
        "                              layer_depth=5,\n",
        "                              filters_root=64,\n",
        "                              padding=\"same\"\n",
        "                              )\n",
        "\n",
        "finalize_model(unet_model,\n",
        "                    loss=losses.SparseCategoricalCrossentropy(),\n",
        "                    metrics=[metrics.SparseCategoricalAccuracy()],\n",
        "                    auc=False,\n",
        "                    learning_rate=LEARNING_RATE)\n"
      ],
      "execution_count": null,
      "outputs": []
    },
    {
      "cell_type": "code",
      "metadata": {
        "id": "hu0vy-xxo4WM"
      },
      "source": [
        "train_dataset, validation_dataset = oxford_iiit_pet.load_data()"
      ],
      "execution_count": null,
      "outputs": []
    },
    {
      "cell_type": "code",
      "metadata": {
        "id": "O-jsvZBZsa42"
      },
      "source": [
        "%tensorboard --logdir oxford_iiit_pet"
      ],
      "execution_count": null,
      "outputs": []
    },
    {
      "cell_type": "code",
      "metadata": {
        "id": "yFQ5RoT-tof4"
      },
      "source": [
        "trainer = unet.Trainer(name=\"oxford_iiit_pet\", checkpoint_callback=False)\n",
        "trainer.fit(unet_model,\n",
        "            train_dataset,\n",
        "            validation_dataset,\n",
        "            epochs=25,\n",
        "            batch_size=32)"
      ],
      "execution_count": null,
      "outputs": []
    },
    {
      "cell_type": "code",
      "metadata": {
        "id": "genUegqf49Qg"
      },
      "source": [
        "%matplotlib inline\n",
        "import matplotlib.pyplot as plt"
      ],
      "execution_count": null,
      "outputs": []
    },
    {
      "cell_type": "code",
      "metadata": {
        "id": "pB6fNMP9R1k1"
      },
      "source": [
        "rows = 10\n",
        "fig, axs = plt.subplots(rows, 3, figsize=(8, 30))\n",
        "for ax, (image, label) in zip(axs, train_dataset.take(rows).batch(1)):\n",
        "\n",
        "  prediction = unet_model.predict(image)\n",
        "  ax[0].matshow(image[0])\n",
        "  ax[1].matshow(label[0, ..., 0], cmap=\"gray\")\n",
        "  ax[2].matshow(prediction[0].argmax(axis=-1), cmap=\"gray\")"
      ],
      "execution_count": null,
      "outputs": []
    },
    {
      "cell_type": "code",
      "metadata": {
        "id": "Z-wSvbN8R21A"
      },
      "source": [],
      "execution_count": null,
      "outputs": []
    }
  ]
}